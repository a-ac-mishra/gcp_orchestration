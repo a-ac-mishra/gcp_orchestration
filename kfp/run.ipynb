{
 "cells": [
  {
   "cell_type": "markdown",
   "id": "048623b0",
   "metadata": {},
   "source": [
    "### Install dependencies"
   ]
  },
  {
   "cell_type": "code",
   "execution_count": null,
   "id": "50a11d45-2d25-4b44-bc9e-a586ff205fec",
   "metadata": {},
   "outputs": [],
   "source": [
    "import sys\n",
    "# Use the latest version of pip.\n",
    "!pip install --upgrade pip\n",
    "# Install tfx and kfp Python packages.\n",
    "!pip install --upgrade \"tfx[kfp]<2\""
   ]
  },
  {
   "cell_type": "markdown",
   "id": "88800313",
   "metadata": {},
   "source": [
    "### Setting up the environment variable"
   ]
  },
  {
   "cell_type": "code",
   "execution_count": null,
   "id": "ad4a5b15-04c9-45a8-b6e0-cbfb221f2165",
   "metadata": {},
   "outputs": [],
   "source": [
    "import os"
   ]
  },
  {
   "cell_type": "code",
   "execution_count": null,
   "id": "475226a0-edde-451a-9da2-5ad38b014ec1",
   "metadata": {},
   "outputs": [],
   "source": [
    "PIPELINE_NAME=\"kfp_tfx_pipeline\"\n",
    "REGION=\"us-central1\"\n",
    "PROJECT_DIR=os.path.join(os.path.expanduser(\"~\"),\"kfp-tfx\",PIPELINE_NAME)\n",
    "print(PROJECT_DIR)"
   ]
  },
  {
   "cell_type": "code",
   "execution_count": null,
   "id": "5d0d9abe-4033-47ae-9f96-d0705c82d1fa",
   "metadata": {},
   "outputs": [],
   "source": [
    "# Read GCP project id from environment.\n",
    "shell_output=!gcloud config list --format 'value(core.project)' 2>/dev/null\n",
    "GCP_PROJECT_ID=shell_output[0]\n",
    "print(\"GCP project ID:\" + GCP_PROJECT_ID)"
   ]
  },
  {
   "cell_type": "code",
   "execution_count": null,
   "id": "00fa481f-f8ff-4004-9c68-59c08c2ba5d8",
   "metadata": {},
   "outputs": [],
   "source": [
    "# Docker image name for the pipeline image\n",
    "CUSTOM_TFX_IMAGE='gcr.io/' + GCP_PROJECT_ID + '/tfx-kfp-pipeline'\n",
    "# please provide the kubeflow pipeline URI\n",
    "ENDPOINT=\"\"\n",
    "if ENDPOINT==\"\":\n",
    "    raise \"Please provide ENDPOINT.\""
   ]
  },
  {
   "cell_type": "code",
   "execution_count": null,
   "id": "90de3c89",
   "metadata": {},
   "outputs": [],
   "source": [
    "# verify the pipeline_name and endpoint_name\n",
    "!echo $PIPELINE_NAME\n",
    "!echo $ENDPOINT"
   ]
  },
  {
   "cell_type": "markdown",
   "id": "eef9896c-f6d2-46a2-a83d-d22ba6face9a",
   "metadata": {},
   "source": [
    "####  `NOTE` : Go to `kubeflow_runner.py` file & make changes `PROJECT_NAME` & `PIPELINE_NAME`"
   ]
  },
  {
   "cell_type": "code",
   "execution_count": null,
   "id": "8d4b71ca-d3a6-48de-b1e5-209f26dded1e",
   "metadata": {},
   "outputs": [],
   "source": [
    "# Change the current working directory to project directory \n",
    "%cd {PROJECT_DIR}"
   ]
  },
  {
   "cell_type": "code",
   "execution_count": null,
   "id": "4100a397-538a-4eba-ac0e-d92a6b8a38b6",
   "metadata": {},
   "outputs": [],
   "source": [
    "# confirm the working directory\n",
    "!pwd"
   ]
  },
  {
   "cell_type": "markdown",
   "id": "7b2c3815",
   "metadata": {},
   "source": [
    "### Create GCS bucket"
   ]
  },
  {
   "cell_type": "code",
   "execution_count": null,
   "id": "0b217212-d2b6-4026-a1e4-3463731a44c9",
   "metadata": {},
   "outputs": [],
   "source": [
    "!gsutil mb -l $REGION gs://$GCP_PROJECT_ID-kubeflowpipelines-default"
   ]
  },
  {
   "cell_type": "code",
   "execution_count": null,
   "id": "bb28b441-060f-41cf-a969-4135b79ddaf9",
   "metadata": {},
   "outputs": [],
   "source": [
    "# copy data to GCS bucket. You can configure the path\n",
    "!gsutil cp data/data.csv gs://$GCP_PROJECT_ID-kubeflowpipelines-default/tfx-template/data/taxi/data.csv"
   ]
  },
  {
   "cell_type": "code",
   "execution_count": null,
   "id": "5c05597a-a7eb-4e6d-87d8-44e70d8a019a",
   "metadata": {},
   "outputs": [],
   "source": [
    "# TFX pipeline command to create docker build and push to kubeflow endpoint \n",
    "!tfx pipeline create  \\\n",
    "--pipeline-path=kubeflow_runner.py \\\n",
    "--endpoint={ENDPOINT} \\\n",
    "--build-image"
   ]
  },
  {
   "cell_type": "markdown",
   "id": "6e9499eb",
   "metadata": {},
   "source": [
    "### Run the pipeline on kubeflow"
   ]
  },
  {
   "cell_type": "code",
   "execution_count": null,
   "id": "46265de6-dd35-453e-8d43-5aed862895df",
   "metadata": {},
   "outputs": [],
   "source": [
    "!tfx run create --pipeline-name=$PIPELINE_NAME --endpoint=$ENDPOINT"
   ]
  },
  {
   "cell_type": "markdown",
   "id": "49a810bc-5bd1-4251-b8b9-c94a5bada2a3",
   "metadata": {},
   "source": [
    "### Update the pipeline\n",
    "! tfx pipeline update \\\n",
    "  --pipeline-path=kubeflow_runner.py \\\n",
    "  --endpoint={ENDPOINT}\n",
    "\n",
    "! tfx run create --pipeline-name \"{PIPELINE_NAME}\""
   ]
  },
  {
   "cell_type": "code",
   "execution_count": null,
   "id": "54e8a9c8-4957-4fb7-9447-7e5293094a7e",
   "metadata": {},
   "outputs": [],
   "source": []
  }
 ],
 "metadata": {
  "environment": {
   "kernel": "python3",
   "name": "tf2-gpu.2-8.m93",
   "type": "gcloud",
   "uri": "gcr.io/deeplearning-platform-release/tf2-gpu.2-8:m93"
  },
  "kernelspec": {
   "display_name": "Python 3.9.7 ('base')",
   "language": "python",
   "name": "python3"
  },
  "language_info": {
   "codemirror_mode": {
    "name": "ipython",
    "version": 3
   },
   "file_extension": ".py",
   "mimetype": "text/x-python",
   "name": "python",
   "nbconvert_exporter": "python",
   "pygments_lexer": "ipython3",
   "version": "3.9.7"
  },
  "vscode": {
   "interpreter": {
    "hash": "c9650de82a15dcb584cf34d82a2a9dac694388d226937eaacb5a5cd64006750b"
   }
  }
 },
 "nbformat": 4,
 "nbformat_minor": 5
}
